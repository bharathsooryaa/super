{
  "nbformat": 4,
  "nbformat_minor": 0,
  "metadata": {
    "colab": {
      "provenance": [],
      "authorship_tag": "ABX9TyPpOqJNmu+Uto0FV35cUb0v",
      "include_colab_link": true
    },
    "kernelspec": {
      "name": "python3",
      "display_name": "Python 3"
    },
    "language_info": {
      "name": "python"
    }
  },
  "cells": [
    {
      "cell_type": "markdown",
      "metadata": {
        "id": "view-in-github",
        "colab_type": "text"
      },
      "source": [
        "<a href=\"https://colab.research.google.com/github/bharathsooryaa/super/blob/master/tnet.ipynb\" target=\"_parent\"><img src=\"https://colab.research.google.com/assets/colab-badge.svg\" alt=\"Open In Colab\"/></a>"
      ]
    },
    {
      "cell_type": "code",
      "execution_count": 8,
      "metadata": {
        "id": "ok4b2W8BX8aR"
      },
      "outputs": [],
      "source": [
        "import networkx as nx\n",
        "import matplotlib.pyplot as plt\n",
        "\n",
        "global G\n"
      ]
    },
    {
      "cell_type": "markdown",
      "source": [],
      "metadata": {
        "id": "DyT4SogpZdYE"
      }
    },
    {
      "cell_type": "code",
      "source": [
        "#data=[(a,b,dis),..]\n",
        "#nodes=[a,b,c..]\n",
        "#edges=[(a,b),(a,c)..]\n",
        "def insertionSort(arr):\n",
        "    n = len(arr)\n",
        "\n",
        "    if n <= 1:\n",
        "        return\n",
        "\n",
        "    for i in range(1, n):\n",
        "        key = arr[i]\n",
        "        j = i-1\n",
        "        while j >= 0 and key[2] < arr[j][2]:\n",
        "            arr[j+1] = arr[j]\n",
        "            j -= 1\n",
        "        arr[j+1] = key\n",
        "##############################################\n",
        "def nodemaker(data,s):\n",
        "    x=[]\n",
        "    node=[s]\n",
        "    for i in data:\n",
        "        if s in i:\n",
        "            x+=[i]\n",
        "    insertionSort(x)\n",
        "    for i in x:\n",
        "        for j in i[0:2]:\n",
        "            if j not in node:\n",
        "                node+=[j]\n",
        "    return node\n",
        "##############################################3\n",
        "def cross(nodes):\n",
        "    out=[]\n",
        "    for i in range(0,len(nodes)):\n",
        "        for j in range(i+1,len(nodes)):\n",
        "            out+=[(nodes[i],nodes[j])]\n",
        "    return out\n",
        "#############################################\n",
        "def datamod(data,edges):\n",
        "    l = len(data)\n",
        "    for i in range(0,l):\n",
        "        data += [data[i][1::-1]+(data[i][2],)]\n",
        "    for i in data:\n",
        "        if i[0:2] not in edges:\n",
        "            data.remove(i)\n",
        "######################################################\n",
        "def find(e,data):\n",
        "    loc =[]\n",
        "    for i in range(0,len(data)):\n",
        "        if e == data[i][0]:\n",
        "            loc+=[i]\n",
        "    return loc\n",
        "####################################\n"
      ],
      "metadata": {
        "id": "0ZtD-I34ZhvQ"
      },
      "execution_count": 15,
      "outputs": []
    },
    {
      "cell_type": "code",
      "source": [
        "def remove(edges,data,s,e,nodes):\n",
        "    locmain = find(s,data)\n",
        "    loc =find(e,data)\n",
        "    if locmain != [] and loc !=[]:\n",
        "        for i in locmain:\n",
        "            for j in loc:\n",
        "\n",
        "                if data[i][1] == data[j][1] and data[i][1] in nodes[1:]:\n",
        "                    if data[i][2]>data[j][2]:\n",
        "                        targnode = data[i][0:2]\n",
        "                    else:\n",
        "                        targnode =data[j][0:2]\n",
        "                    if targnode in edges:\n",
        "                        edges.remove(targnode)\n",
        "###############################################################################\n",
        "def transitive(nodes,edges,data,s):\n",
        "    if len(nodes) >1:\n",
        "        for i in range(1,len(nodes)-2):\n",
        "\n",
        "            remove(edges,data,s,nodes[i],nodes)\n",
        "            transitive(nodes[i+1:],edges,data,nodes[i])\n",
        "        new_s = nodes[1]\n",
        "        transitive(nodes[1:],edges,data,new_s)\n",
        "\n",
        "################################################################################\n",
        "\n",
        "def hasse(data,s):\n",
        "    nodes=nodemaker(data,s)\n",
        "    edges = cross(nodes)\n",
        "    datamod(data,edges)\n",
        "    #print(\"old:\",edges)\n",
        "    transitive(nodes,edges,data,s)\n",
        "    #print(\"new:\",edges)\n",
        "    #print(\"nodes:\",nodes)\n",
        "    return edges\n",
        "\n",
        "\n"
      ],
      "metadata": {
        "id": "eWF3gFMmYT7s"
      },
      "execution_count": 14,
      "outputs": []
    },
    {
      "cell_type": "code",
      "source": [
        "s='d'\n",
        "data = [('a','b',3),('b','c',1),('c','d',3),('a','d',7),('a','c',4),('b','d',6),('a','e',5),('e','b',6),('c','e',7),('d','e',4)]\n",
        "nodes=nodemaker(data,s)\n",
        "edges = cross(nodes)\n",
        "datamod(data,edges)\n",
        "\n",
        "#print(data)\n",
        "\n",
        "has_edge= hasse(data,s)\n",
        "print(has_edge)"
      ],
      "metadata": {
        "colab": {
          "base_uri": "https://localhost:8080/"
        },
        "id": "jPqd2i7qYb4I",
        "outputId": "dd78bf05-c63f-48ce-ffe7-24b56a469e41"
      },
      "execution_count": 34,
      "outputs": [
        {
          "output_type": "stream",
          "name": "stdout",
          "text": [
            "[('d', 'c'), ('d', 'e'), ('c', 'b'), ('c', 'a'), ('b', 'a')]\n"
          ]
        }
      ]
    },
    {
      "cell_type": "code",
      "source": [
        "G = nx.Graph()\n",
        "G.add_edges_from(has_edge)\n",
        "'''pos = {'a': (0, 0), 'b': (-1, 0.3), 'c': (2, 0.17), 'd': (4, 0.255), 'e': (5, 0.03)}\n",
        "options = {\n",
        "    \"font_size\": 36,\n",
        "    \"node_size\": 3000,\n",
        "    \"node_color\": \"white\",\n",
        "    \"edgecolors\": \"black\",\n",
        "    \"linewidths\": 5,\n",
        "    \"width\": 5,\n",
        "}\n",
        "nx.draw_networkx(G, pos, **options)\n",
        "\n",
        "# Set margins for the axes so that nodes aren't clipped\n",
        "ax = plt.gca()\n",
        "ax.margins(0.20)\n",
        "plt.axis(\"off\")\n",
        "plt.show()'''\n"
      ],
      "metadata": {
        "colab": {
          "base_uri": "https://localhost:8080/",
          "height": 70
        },
        "id": "yVlIMsgEfUZ4",
        "outputId": "0b02649d-ee69-49dd-e0d5-07947c48169e"
      },
      "execution_count": 33,
      "outputs": [
        {
          "output_type": "execute_result",
          "data": {
            "text/plain": [
              "'pos = {\\'a\\': (0, 0), \\'b\\': (-1, 0.3), \\'c\\': (2, 0.17), \\'d\\': (4, 0.255), \\'e\\': (5, 0.03)}\\noptions = {\\n    \"font_size\": 36,\\n    \"node_size\": 3000,\\n    \"node_color\": \"white\",\\n    \"edgecolors\": \"black\",\\n    \"linewidths\": 5,\\n    \"width\": 5,\\n}\\nnx.draw_networkx(G, pos, **options)\\n\\n# Set margins for the axes so that nodes aren\\'t clipped\\nax = plt.gca()\\nax.margins(0.20)\\nplt.axis(\"off\")\\nplt.show()'"
            ],
            "application/vnd.google.colaboratory.intrinsic+json": {
              "type": "string"
            }
          },
          "metadata": {},
          "execution_count": 33
        }
      ]
    },
    {
      "cell_type": "code",
      "source": [
        "def datamod2(data,s):\n",
        "  newdata=[]\n",
        "  for i in data:\n",
        "    if i[0]==s :\n",
        "      newdata += [(i[1],i[2],0)]\n",
        "  temp=0\n",
        "  '''for i in range(0,len(newdata)):\n",
        "      for j in range(i,len(newdata)):\n",
        "        if newdata[i]==newdata[j]:\n",
        "            newdata.pop(j)'''\n",
        "  return newdata"
      ],
      "metadata": {
        "id": "2FedP0xHbdiK"
      },
      "execution_count": 62,
      "outputs": []
    },
    {
      "cell_type": "code",
      "source": [
        "#x=[(city_name,distance_fromsn,switch)] decending order of distance from sn\n",
        "data2 = datamod2(data,s)\n",
        "def shortdis(sn,tn):\n",
        "    global G\n",
        "    # Specify the source and target nodes\n",
        "    source_node = sn\n",
        "    target_node = tn\n",
        "    # Use Dijkstra's algorithm to find the shortest path\n",
        "    shortest_path = nx.shortest_path(G, source=source_node, target=target_node, weight='weight')\n",
        "    return shortest_path\n",
        "\n",
        "def graph(data,s):\n",
        "    gr =[]\n",
        "    for i in range(0,len(data)):\n",
        "        if data[i][2]==0:\n",
        "            gr+=[data[i][0],shortdis(s,data[i][0])]\n",
        "\n",
        "    return gr\n",
        "print(graph(data2,s))"
      ],
      "metadata": {
        "colab": {
          "base_uri": "https://localhost:8080/"
        },
        "id": "VH2nfUUqY-br",
        "outputId": "653c102f-9543-46c6-b30e-90806294bd2d"
      },
      "execution_count": 63,
      "outputs": [
        {
          "output_type": "stream",
          "name": "stdout",
          "text": [
            "['e', ['d', 'e'], 'c', ['d', 'c'], 'a', ['d', 'e', 'a'], 'b', ['d', 'c', 'b'], 'a', ['d', 'e', 'a'], 'b', ['d', 'c', 'b']]\n"
          ]
        }
      ]
    }
  ]
}